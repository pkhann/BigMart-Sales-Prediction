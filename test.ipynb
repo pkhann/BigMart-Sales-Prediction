{
 "cells": [
  {
   "cell_type": "code",
   "execution_count": 2,
   "metadata": {},
   "outputs": [
    {
     "name": "stdout",
     "output_type": "stream",
     "text": [
      "Average RMSE from K-Fold Cross-Validation: 1178.8608121930597\n",
      "Predictions saved to 'submission.csv'\n"
     ]
    }
   ],
   "source": [
    "import pandas as pd\n",
    "from sklearn.model_selection import KFold, cross_val_score\n",
    "from sklearn.metrics import mean_squared_error\n",
    "from sklearn.preprocessing import LabelEncoder\n",
    "from xgboost import XGBRegressor\n",
    "import numpy as np\n",
    "\n",
    "# Load datasets\n",
    "df_train = pd.read_csv('train_v9rqX0R.csv')\n",
    "df_test = pd.read_csv('test_AbJTz2l.csv')\n",
    "\n",
    "# Drop 'Item_Weight' and 'Outlet_Size' as per your requirement\n",
    "df_train.drop(columns=['Item_Weight', 'Outlet_Size'], inplace=True)\n",
    "df_test.drop(columns=['Item_Weight', 'Outlet_Size'], inplace=True)\n",
    "\n",
    "# Separate target variable and features\n",
    "X = df_train.drop(columns=['Item_Outlet_Sales'])\n",
    "y = df_train['Item_Outlet_Sales']\n",
    "\n",
    "# Combine train and test data for consistent encoding\n",
    "combined = pd.concat([X, df_test])\n",
    "\n",
    "# Label encode categorical columns\n",
    "categorical_cols = combined.select_dtypes(include=['object']).columns\n",
    "label_encoders = {}\n",
    "\n",
    "for col in categorical_cols:\n",
    "    le = LabelEncoder()\n",
    "    combined[col] = le.fit_transform(combined[col])\n",
    "    label_encoders[col] = le\n",
    "\n",
    "# Split combined dataset back into train and test\n",
    "X = combined.iloc[:len(df_train), :]\n",
    "X_test = combined.iloc[len(df_train):, :]\n",
    "\n",
    "# K-Fold Cross-Validation\n",
    "kf = KFold(n_splits=5, shuffle=True, random_state=42)\n",
    "xgb_model = XGBRegressor(random_state=42)\n",
    "\n",
    "rmse_scores = []\n",
    "\n",
    "for train_index, val_index in kf.split(X):\n",
    "    X_train, X_val = X.iloc[train_index], X.iloc[val_index]\n",
    "    y_train, y_val = y.iloc[train_index], y.iloc[val_index]\n",
    "    \n",
    "    # Train the model\n",
    "    xgb_model.fit(X_train, y_train)\n",
    "    \n",
    "    # Predict on validation set\n",
    "    y_val_pred = xgb_model.predict(X_val)\n",
    "    \n",
    "    # Calculate RMSE for this fold\n",
    "    rmse = np.sqrt(mean_squared_error(y_val, y_val_pred))\n",
    "    rmse_scores.append(rmse)\n",
    "\n",
    "# Calculate the average RMSE across all folds\n",
    "avg_rmse = np.mean(rmse_scores)\n",
    "print(f\"Average RMSE from K-Fold Cross-Validation: {avg_rmse}\")\n",
    "\n",
    "# Train the final model on the entire training data\n",
    "xgb_model.fit(X, y)\n",
    "\n",
    "# Predict on the test dataset\n",
    "# Clip predictions to ensure non-negative values\n",
    "y_test_pred = np.clip(xgb_model.predict(X_test), 0, None)\n",
    "\n",
    "# Save the clipped predictions to a CSV file\n",
    "submission = pd.DataFrame({\n",
    "    'Item_Identifier': df_test['Item_Identifier'], \n",
    "    'Outlet_Identifier': df_test['Outlet_Identifier'], \n",
    "    'Item_Outlet_Sales': y_test_pred\n",
    "})\n",
    "submission.to_csv('submission.csv', index=False)\n",
    "print(\"Predictions saved to 'submission.csv'\")\n"
   ]
  }
 ],
 "metadata": {
  "kernelspec": {
   "display_name": "lab",
   "language": "python",
   "name": "python3"
  },
  "language_info": {
   "codemirror_mode": {
    "name": "ipython",
    "version": 3
   },
   "file_extension": ".py",
   "mimetype": "text/x-python",
   "name": "python",
   "nbconvert_exporter": "python",
   "pygments_lexer": "ipython3",
   "version": "3.11.10"
  }
 },
 "nbformat": 4,
 "nbformat_minor": 2
}
